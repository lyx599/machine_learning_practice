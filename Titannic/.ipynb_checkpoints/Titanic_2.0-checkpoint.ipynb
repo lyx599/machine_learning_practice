{
 "cells": [
  {
   "cell_type": "markdown",
   "metadata": {},
   "source": [
    "# kaggle泰坦尼克实战2.0"
   ]
  },
  {
   "cell_type": "markdown",
   "metadata": {},
   "source": [
    "集百家之长，加强对数据的认识，不再凭直觉进行特征选择    \n",
    "参考文章  \n",
    "https://ahmedbesbes.com/how-to-score-08134-in-titanic-kaggle-challenge.html\n",
    "https://www.kaggle.com/mrisdal/exploring-survival-on-the-titanic\n",
    "https://zhuanlan.zhihu.com/p/27655949  \n",
    "http://www.jasongj.com/ml/classification/"
   ]
  },
  {
   "cell_type": "code",
   "execution_count": null,
   "metadata": {
    "ExecuteTime": {
     "start_time": "2019-06-03T09:00:14.488Z"
    }
   },
   "outputs": [],
   "source": [
    "import numpy as np\n",
    "import pandas as pd\n",
    "import matplotlib.pyplot as plt\n",
    "import matplotlib\n",
    "import seaborn as sns"
   ]
  },
  {
   "cell_type": "markdown",
   "metadata": {},
   "source": [
    "# 加载数据"
   ]
  },
  {
   "cell_type": "code",
   "execution_count": null,
   "metadata": {
    "ExecuteTime": {
     "start_time": "2019-06-03T09:00:14.498Z"
    }
   },
   "outputs": [],
   "source": [
    "train_data = pd.read_csv('./data/train.csv')\n",
    "test_data = pd.read_csv('./data/test.csv')\n",
    "train_data.head()"
   ]
  },
  {
   "cell_type": "code",
   "execution_count": null,
   "metadata": {
    "ExecuteTime": {
     "start_time": "2019-06-03T09:00:14.507Z"
    }
   },
   "outputs": [],
   "source": [
    "train_data.info()"
   ]
  },
  {
   "cell_type": "code",
   "execution_count": null,
   "metadata": {
    "ExecuteTime": {
     "start_time": "2019-06-03T09:00:14.513Z"
    }
   },
   "outputs": [],
   "source": [
    "test_data.head()"
   ]
  },
  {
   "cell_type": "code",
   "execution_count": null,
   "metadata": {
    "ExecuteTime": {
     "start_time": "2019-06-03T09:00:14.521Z"
    }
   },
   "outputs": [],
   "source": [
    "test_data.info()"
   ]
  },
  {
   "cell_type": "markdown",
   "metadata": {},
   "source": [
    "# 探索数据"
   ]
  },
  {
   "cell_type": "markdown",
   "metadata": {},
   "source": [
    "探索数据前需分出一部分测试集，避免受主观影响"
   ]
  },
  {
   "cell_type": "code",
   "execution_count": null,
   "metadata": {
    "ExecuteTime": {
     "start_time": "2019-06-03T09:00:14.530Z"
    }
   },
   "outputs": [],
   "source": [
    "from sklearn.model_selection import train_test_split\n",
    "\n",
    "train_set,test_set = train_test_split(train_data,test_size=0.2,random_state=42)"
   ]
  },
  {
   "cell_type": "code",
   "execution_count": null,
   "metadata": {
    "ExecuteTime": {
     "start_time": "2019-06-03T09:00:14.537Z"
    }
   },
   "outputs": [],
   "source": [
    "train_set.info()"
   ]
  },
  {
   "cell_type": "markdown",
   "metadata": {},
   "source": [
    "可以看到age，cabin，Embarked都有缺失值"
   ]
  },
  {
   "cell_type": "code",
   "execution_count": null,
   "metadata": {
    "ExecuteTime": {
     "start_time": "2019-06-03T09:00:14.547Z"
    }
   },
   "outputs": [],
   "source": [
    "train_set.describe()"
   ]
  },
  {
   "cell_type": "markdown",
   "metadata": {
    "ExecuteTime": {
     "end_time": "2019-06-02T03:27:25.540293Z",
     "start_time": "2019-06-02T03:27:25.464337Z"
    }
   },
   "source": [
    "Survived均值为0.37表明大约三分之一的人获救"
   ]
  },
  {
   "cell_type": "code",
   "execution_count": null,
   "metadata": {
    "ExecuteTime": {
     "start_time": "2019-06-03T09:00:14.556Z"
    }
   },
   "outputs": [],
   "source": [
    "corr_matrix = train_set.drop('PassengerId',axis=1).corr()\n",
    "corr_matrix"
   ]
  },
  {
   "cell_type": "code",
   "execution_count": null,
   "metadata": {
    "ExecuteTime": {
     "start_time": "2019-06-03T09:00:14.562Z"
    }
   },
   "outputs": [],
   "source": [
    "ax = plt.subplots(figsize=(12,10))\n",
    "ax = sns.heatmap(corr_matrix, vmin=-1, vmax=1 , annot=True , square=True)"
   ]
  },
  {
   "cell_type": "markdown",
   "metadata": {},
   "source": [
    "通过相关分析，初步判断特征之间的相关关系"
   ]
  },
  {
   "cell_type": "markdown",
   "metadata": {},
   "source": [
    "## Survived 与 Pclass"
   ]
  },
  {
   "cell_type": "code",
   "execution_count": null,
   "metadata": {
    "ExecuteTime": {
     "start_time": "2019-06-03T09:00:14.573Z"
    }
   },
   "outputs": [],
   "source": [
    "train_set['die'] = 1 - train_set['Survived']\n",
    "train_set.groupby(['Pclass']).agg('sum')[['Survived','die']].plot(kind='bar', figsize=(12, 10),\n",
    "                                                          stacked=True, color=['g', 'r'])"
   ]
  },
  {
   "cell_type": "markdown",
   "metadata": {
    "ExecuteTime": {
     "end_time": "2019-06-02T07:03:14.971614Z",
     "start_time": "2019-06-02T07:03:14.945629Z"
    }
   },
   "source": [
    "可以看到每个等级的获救几率不同，等级3的几率最小，这是一个关键的特征，从相关关系也能看出"
   ]
  },
  {
   "cell_type": "markdown",
   "metadata": {},
   "source": [
    "## Survived 与 Name"
   ]
  },
  {
   "cell_type": "markdown",
   "metadata": {},
   "source": [
    "通过观察可以发现名字前面都有一个称谓，先提取称谓再观察是否是一个有用特征"
   ]
  },
  {
   "cell_type": "code",
   "execution_count": null,
   "metadata": {
    "ExecuteTime": {
     "start_time": "2019-06-03T09:00:14.585Z"
    }
   },
   "outputs": [],
   "source": [
    "train_data.head()"
   ]
  },
  {
   "cell_type": "code",
   "execution_count": null,
   "metadata": {
    "ExecuteTime": {
     "start_time": "2019-06-03T09:00:14.596Z"
    }
   },
   "outputs": [],
   "source": [
    "titles = set()\n",
    "for name in train_data['Name']:\n",
    "    titles.add(name.split(',')[1].split('.')[0].strip())"
   ]
  },
  {
   "cell_type": "code",
   "execution_count": null,
   "metadata": {
    "ExecuteTime": {
     "start_time": "2019-06-03T09:00:14.605Z"
    }
   },
   "outputs": [],
   "source": [
    "titles"
   ]
  },
  {
   "cell_type": "code",
   "execution_count": null,
   "metadata": {
    "ExecuteTime": {
     "start_time": "2019-06-03T09:00:14.616Z"
    }
   },
   "outputs": [],
   "source": [
    "Title_Dictionary = {\n",
    "    \"Capt\": \"Officer\",\n",
    "    \"Col\": \"Officer\",\n",
    "    \"Major\": \"Officer\",\n",
    "    \"Jonkheer\": \"Royalty\",\n",
    "    \"Don\": \"Royalty\",\n",
    "    \"Sir\" : \"Royalty\",\n",
    "    \"Dr\": \"Officer\",\n",
    "    \"Rev\": \"Officer\",\n",
    "    \"the Countess\":\"Royalty\",\n",
    "    \"Mme\": \"Mrs\",\n",
    "    \"Mlle\": \"Miss\",\n",
    "    \"Ms\": \"Mrs\",\n",
    "    \"Mr\" : \"Mr\",\n",
    "    \"Mrs\" : \"Mrs\",\n",
    "    \"Miss\" : \"Miss\",\n",
    "    \"Master\" : \"Master\",\n",
    "    \"Lady\" : \"Royalty\"\n",
    "}\n",
    "\n",
    "def get_titles(train_data):\n",
    "    train_data['Title'] = train_data['Name'].map(lambda name:name.split(',')[1].split('.')[0].strip())\n",
    "    \n",
    "    train_data['Title'] = train_data.Title.map(Title_Dictionary)\n",
    "    return train_data"
   ]
  },
  {
   "cell_type": "code",
   "execution_count": null,
   "metadata": {
    "ExecuteTime": {
     "start_time": "2019-06-03T09:00:14.625Z"
    }
   },
   "outputs": [],
   "source": [
    "get_titles(train_set)\n",
    "train_set.head()"
   ]
  },
  {
   "cell_type": "code",
   "execution_count": null,
   "metadata": {
    "ExecuteTime": {
     "start_time": "2019-06-03T09:00:14.633Z"
    }
   },
   "outputs": [],
   "source": [
    "train_set.groupby(['Title']).agg('sum')[['Survived','die']].plot(kind='bar',figsize=(12,10),\n",
    "                                                              stacked=True,color=['g','r'])"
   ]
  },
  {
   "cell_type": "markdown",
   "metadata": {},
   "source": [
    "可以看出女士的获救率较高，男士和船员的获救率较低"
   ]
  },
  {
   "cell_type": "markdown",
   "metadata": {},
   "source": [
    "## Survived 与 Sex"
   ]
  },
  {
   "cell_type": "code",
   "execution_count": null,
   "metadata": {
    "ExecuteTime": {
     "start_time": "2019-06-03T09:00:14.645Z"
    }
   },
   "outputs": [],
   "source": [
    "train_set.groupby(['Sex']).agg('sum')[['Survived','die']].plot(kind='bar',figsize=(12,10),\n",
    "                                                       stacked=True,color=['g','r'])"
   ]
  },
  {
   "cell_type": "markdown",
   "metadata": {},
   "source": [
    "可以看出女士的获救率比男士高，也印证了上面名字特征的结果"
   ]
  },
  {
   "cell_type": "markdown",
   "metadata": {
    "ExecuteTime": {
     "end_time": "2019-06-02T07:49:30.259176Z",
     "start_time": "2019-06-02T07:49:30.255178Z"
    }
   },
   "source": [
    "## Survived 与 Age"
   ]
  },
  {
   "cell_type": "code",
   "execution_count": null,
   "metadata": {
    "ExecuteTime": {
     "start_time": "2019-06-03T09:00:14.653Z"
    }
   },
   "outputs": [],
   "source": [
    "facet = sns.FacetGrid(train_set, hue=\"Survived\",aspect=4)\n",
    "facet.map(sns.kdeplot,'Age',shade= True)\n",
    "facet.set(xlim=(0, train_set['Age'].max()))\n",
    "facet.add_legend()"
   ]
  },
  {
   "cell_type": "markdown",
   "metadata": {},
   "source": [
    "可以看出0-10岁左右的获救率较高，通过性别和年龄都表明了背景‘让妇女儿童先走’，这2个是重要的特征"
   ]
  },
  {
   "cell_type": "markdown",
   "metadata": {},
   "source": [
    "## Survived 与 SibSp"
   ]
  },
  {
   "cell_type": "code",
   "execution_count": null,
   "metadata": {
    "ExecuteTime": {
     "start_time": "2019-06-03T09:00:14.663Z"
    }
   },
   "outputs": [],
   "source": [
    "train_set.groupby(['SibSp']).agg('sum')[['Survived','die']].plot(kind='bar',figsize=(12,10),\n",
    "                                                       stacked=True,color=['g','r'])"
   ]
  },
  {
   "cell_type": "markdown",
   "metadata": {},
   "source": [
    "## Survived 与 Parch"
   ]
  },
  {
   "cell_type": "code",
   "execution_count": null,
   "metadata": {
    "ExecuteTime": {
     "start_time": "2019-06-03T09:00:14.672Z"
    }
   },
   "outputs": [],
   "source": [
    "train_set.groupby(['Parch']).agg('sum')[['Survived','die']].plot(kind='bar',figsize=(12,10),\n",
    "                                                       stacked=True,color=['g','r'])"
   ]
  },
  {
   "cell_type": "markdown",
   "metadata": {},
   "source": [
    "## Survived 与 Fare"
   ]
  },
  {
   "cell_type": "code",
   "execution_count": null,
   "metadata": {
    "ExecuteTime": {
     "start_time": "2019-06-03T09:00:14.680Z"
    }
   },
   "outputs": [],
   "source": [
    "facet = sns.FacetGrid(train_set, hue=\"Survived\",aspect=4)\n",
    "facet.map(sns.kdeplot,'Fare',shade= True)\n",
    "facet.set(xlim=(0, train_set['Fare'].max()))\n",
    "facet.add_legend()"
   ]
  },
  {
   "cell_type": "markdown",
   "metadata": {},
   "source": [
    "可以看到票价越高，获救率就越高"
   ]
  },
  {
   "cell_type": "markdown",
   "metadata": {},
   "source": [
    "## Survived 与 Cabin"
   ]
  },
  {
   "cell_type": "markdown",
   "metadata": {
    "ExecuteTime": {
     "end_time": "2019-06-02T08:23:20.991544Z",
     "start_time": "2019-06-02T08:23:17.090824Z"
    }
   },
   "source": [
    "cabin缺失值太多了，可以在使用时去掉"
   ]
  },
  {
   "cell_type": "markdown",
   "metadata": {},
   "source": [
    "## Survived 与 Embarked"
   ]
  },
  {
   "cell_type": "code",
   "execution_count": null,
   "metadata": {
    "ExecuteTime": {
     "start_time": "2019-06-03T09:00:14.691Z"
    }
   },
   "outputs": [],
   "source": [
    "train_set.groupby(['Embarked']).agg('sum')[['Survived','die']].plot(kind='bar',figsize=(12,10),\n",
    "                                                       stacked=True,color=['g','r'])"
   ]
  },
  {
   "cell_type": "markdown",
   "metadata": {},
   "source": [
    "可以看出，S的人数较多，获救率较低，可能也是更财富地位有关"
   ]
  },
  {
   "cell_type": "markdown",
   "metadata": {},
   "source": [
    "# 准备数据"
   ]
  },
  {
   "cell_type": "markdown",
   "metadata": {},
   "source": [
    "## 删除不需要的特征"
   ]
  },
  {
   "cell_type": "code",
   "execution_count": null,
   "metadata": {
    "ExecuteTime": {
     "start_time": "2019-06-03T09:00:14.699Z"
    }
   },
   "outputs": [],
   "source": [
    "train_set = train_set.drop(['PassengerId','Ticket','Name','Cabin','die'],axis=1)"
   ]
  },
  {
   "cell_type": "code",
   "execution_count": null,
   "metadata": {
    "ExecuteTime": {
     "start_time": "2019-06-03T09:00:14.707Z"
    }
   },
   "outputs": [],
   "source": [
    "train_set.head()"
   ]
  },
  {
   "cell_type": "markdown",
   "metadata": {},
   "source": [
    "## 处理缺失值"
   ]
  },
  {
   "cell_type": "code",
   "execution_count": null,
   "metadata": {
    "ExecuteTime": {
     "start_time": "2019-06-03T09:00:14.716Z"
    }
   },
   "outputs": [],
   "source": [
    "train_set.info()"
   ]
  },
  {
   "cell_type": "code",
   "execution_count": null,
   "metadata": {
    "ExecuteTime": {
     "start_time": "2019-06-03T09:00:14.724Z"
    }
   },
   "outputs": [],
   "source": [
    "train_set[train_data['Embarked'].isna()]"
   ]
  },
  {
   "cell_type": "code",
   "execution_count": null,
   "metadata": {
    "ExecuteTime": {
     "start_time": "2019-06-03T09:00:14.733Z"
    }
   },
   "outputs": [],
   "source": [
    "train_set.loc[61,'Embarked'] = 'C'\n",
    "train_set.loc[829,'Embarked'] = 'C'"
   ]
  },
  {
   "cell_type": "code",
   "execution_count": null,
   "metadata": {
    "ExecuteTime": {
     "start_time": "2019-06-03T09:00:14.742Z"
    }
   },
   "outputs": [],
   "source": [
    "train_set.info()"
   ]
  },
  {
   "cell_type": "code",
   "execution_count": null,
   "metadata": {
    "ExecuteTime": {
     "start_time": "2019-06-03T09:00:14.755Z"
    }
   },
   "outputs": [],
   "source": [
    "group_train = train_set.groupby(['Sex','Pclass','Title'])\n",
    "group_median_train = group_train.median()\n",
    "group_median_train"
   ]
  },
  {
   "cell_type": "code",
   "execution_count": null,
   "metadata": {
    "ExecuteTime": {
     "start_time": "2019-06-03T09:00:14.762Z"
    }
   },
   "outputs": [],
   "source": [
    "group_median_train = group_median_train.reset_index()[['Sex', 'Pclass', 'Title', 'Age']]\n",
    "group_median_train"
   ]
  },
  {
   "cell_type": "code",
   "execution_count": null,
   "metadata": {
    "ExecuteTime": {
     "start_time": "2019-06-03T09:00:14.774Z"
    }
   },
   "outputs": [],
   "source": [
    "def fill_age(row):\n",
    "    condition=(\n",
    "        (group_median_train['Sex'] == row['Sex']) &\n",
    "        (group_median_train['Title'] == row['Title']) &\n",
    "        (group_median_train['Pclass'] == row['Pclass'])\n",
    "    )\n",
    "    return group_median_train[condition]['Age'].values[0]"
   ]
  },
  {
   "cell_type": "code",
   "execution_count": null,
   "metadata": {
    "ExecuteTime": {
     "start_time": "2019-06-03T09:00:14.785Z"
    }
   },
   "outputs": [],
   "source": [
    "train_set['Age'] = train_set.apply(lambda row: fill_age(row) if np.isnan(row['Age']) else row['Age'],axis=1)"
   ]
  },
  {
   "cell_type": "code",
   "execution_count": null,
   "metadata": {
    "ExecuteTime": {
     "start_time": "2019-06-03T09:00:14.791Z"
    }
   },
   "outputs": [],
   "source": [
    "train_set.info()"
   ]
  },
  {
   "cell_type": "markdown",
   "metadata": {},
   "source": [
    "## 文本特征转数字特征"
   ]
  },
  {
   "cell_type": "code",
   "execution_count": null,
   "metadata": {
    "ExecuteTime": {
     "start_time": "2019-06-03T09:00:14.802Z"
    }
   },
   "outputs": [],
   "source": [
    "train_set['Sex'] = pd.factorize(train_set['Sex'])[0]\n",
    "train_set.head()"
   ]
  },
  {
   "cell_type": "code",
   "execution_count": null,
   "metadata": {
    "ExecuteTime": {
     "start_time": "2019-06-03T09:00:14.812Z"
    }
   },
   "outputs": [],
   "source": [
    "train_set = pd.concat([train_set,pd.get_dummies(train_set['Embarked'])],axis=1)\n",
    "train_set.head()"
   ]
  },
  {
   "cell_type": "code",
   "execution_count": null,
   "metadata": {
    "ExecuteTime": {
     "start_time": "2019-06-03T09:00:14.825Z"
    }
   },
   "outputs": [],
   "source": [
    "train_set = pd.concat([train_set,pd.get_dummies(train_set['Title'])],axis=1)\n",
    "train_set.head()"
   ]
  },
  {
   "cell_type": "code",
   "execution_count": null,
   "metadata": {
    "ExecuteTime": {
     "start_time": "2019-06-03T09:00:14.836Z"
    }
   },
   "outputs": [],
   "source": [
    "train_set = train_set.drop(['Embarked','Title'],axis=1)\n",
    "train_set.head()"
   ]
  },
  {
   "cell_type": "markdown",
   "metadata": {},
   "source": [
    "## 特征缩放"
   ]
  },
  {
   "cell_type": "code",
   "execution_count": null,
   "metadata": {
    "ExecuteTime": {
     "start_time": "2019-06-03T09:00:14.848Z"
    }
   },
   "outputs": [],
   "source": [
    "y_train = train_set['Survived']\n",
    "train_set = train_set.drop(['Survived'],axis=1 )"
   ]
  },
  {
   "cell_type": "code",
   "execution_count": null,
   "metadata": {
    "ExecuteTime": {
     "start_time": "2019-06-03T09:00:14.856Z"
    }
   },
   "outputs": [],
   "source": [
    "from sklearn.preprocessing import StandardScaler\n",
    "\n",
    "std = StandardScaler()\n",
    "std.fit(train_set)"
   ]
  },
  {
   "cell_type": "markdown",
   "metadata": {},
   "source": [
    "## 完成数据"
   ]
  },
  {
   "cell_type": "code",
   "execution_count": null,
   "metadata": {
    "ExecuteTime": {
     "start_time": "2019-06-03T09:00:14.865Z"
    }
   },
   "outputs": [],
   "source": [
    "X_train = std.transform(train_set)\n",
    "X_train.shape,y_train.shape"
   ]
  },
  {
   "cell_type": "markdown",
   "metadata": {},
   "source": [
    "# 模型"
   ]
  },
  {
   "cell_type": "markdown",
   "metadata": {},
   "source": [
    "## 特征选择"
   ]
  },
  {
   "cell_type": "code",
   "execution_count": null,
   "metadata": {
    "ExecuteTime": {
     "start_time": "2019-06-03T09:00:14.877Z"
    }
   },
   "outputs": [],
   "source": [
    "from sklearn.ensemble import RandomForestClassifier\n",
    "rng_clf = RandomForestClassifier(n_estimators=50,max_features='sqrt')\n",
    "rng_clf.fit(X_train,y_train)"
   ]
  },
  {
   "cell_type": "code",
   "execution_count": null,
   "metadata": {
    "ExecuteTime": {
     "start_time": "2019-06-03T09:00:14.885Z"
    }
   },
   "outputs": [],
   "source": [
    "rng_clf.feature_importances_"
   ]
  },
  {
   "cell_type": "code",
   "execution_count": null,
   "metadata": {
    "ExecuteTime": {
     "start_time": "2019-06-03T09:00:14.895Z"
    }
   },
   "outputs": [],
   "source": [
    "features = pd.DataFrame()\n",
    "features['feature'] = train_set.columns\n",
    "features['importance'] = rng_clf.feature_importances_\n",
    "features.sort_values(by=['importance'], ascending=True, inplace=True)\n",
    "features.set_index('feature', inplace=True)\n",
    "features.plot(kind='barh',figsize=(12,10))"
   ]
  },
  {
   "cell_type": "code",
   "execution_count": null,
   "metadata": {
    "ExecuteTime": {
     "start_time": "2019-06-03T09:00:14.902Z"
    }
   },
   "outputs": [],
   "source": [
    "from sklearn.feature_selection import SelectFromModel\n",
    "model = SelectFromModel(rng_clf, prefit=True)\n",
    "X_train_reduced = model.transform(X_train)\n",
    "X_train_reduced.shape"
   ]
  },
  {
   "cell_type": "code",
   "execution_count": null,
   "metadata": {
    "ExecuteTime": {
     "start_time": "2019-06-03T09:00:14.909Z"
    }
   },
   "outputs": [],
   "source": [
    "X_train = X_train[:,:14]\n",
    "X_train.shape"
   ]
  },
  {
   "cell_type": "markdown",
   "metadata": {
    "ExecuteTime": {
     "end_time": "2019-06-03T03:14:47.304576Z",
     "start_time": "2019-06-03T03:14:47.209630Z"
    }
   },
   "source": [
    "通过树的估算器可用于计算特征重要性，进而筛选不重要的特征。这里特征不多，就直接全部用上"
   ]
  },
  {
   "cell_type": "markdown",
   "metadata": {},
   "source": [
    "## 尝试不同的模型"
   ]
  },
  {
   "cell_type": "markdown",
   "metadata": {},
   "source": [
    "### logistics模型"
   ]
  },
  {
   "cell_type": "code",
   "execution_count": null,
   "metadata": {
    "ExecuteTime": {
     "start_time": "2019-06-03T09:00:14.918Z"
    }
   },
   "outputs": [],
   "source": [
    "from sklearn.linear_model import LogisticRegression\n",
    "\n",
    "log_clf = LogisticRegression(random_state=42)\n",
    "log_clf.fit(X_train,y_train)\n",
    "y_log_pred = log_clf.predict(X_train)"
   ]
  },
  {
   "cell_type": "code",
   "execution_count": null,
   "metadata": {
    "ExecuteTime": {
     "start_time": "2019-06-03T09:00:14.926Z"
    }
   },
   "outputs": [],
   "source": [
    "from sklearn.metrics import accuracy_score\n",
    "accuracy_score(y_log_pred,y_train)"
   ]
  },
  {
   "cell_type": "code",
   "execution_count": null,
   "metadata": {
    "ExecuteTime": {
     "start_time": "2019-06-03T09:00:14.933Z"
    }
   },
   "outputs": [],
   "source": [
    "from sklearn.model_selection import cross_val_score\n",
    "cross_val_score(log_clf,X_train,y_train,cv=3)"
   ]
  },
  {
   "cell_type": "markdown",
   "metadata": {},
   "source": [
    "### 决策树"
   ]
  },
  {
   "cell_type": "code",
   "execution_count": null,
   "metadata": {
    "ExecuteTime": {
     "start_time": "2019-06-03T09:00:14.942Z"
    }
   },
   "outputs": [],
   "source": [
    "from sklearn.tree import DecisionTreeClassifier\n",
    "\n",
    "dt_clf = DecisionTreeClassifier()\n",
    "dt_clf.fit(X_train,y_train)\n",
    "y_dt_pred = dt_clf.predict(X_train)\n",
    "accuracy_score(y_dt_pred,y_train)"
   ]
  },
  {
   "cell_type": "code",
   "execution_count": null,
   "metadata": {
    "ExecuteTime": {
     "start_time": "2019-06-03T09:00:14.952Z"
    }
   },
   "outputs": [],
   "source": [
    "cross_val_score(dt_clf,X_train,y_train,cv=3,scoring='accuracy')"
   ]
  },
  {
   "cell_type": "markdown",
   "metadata": {},
   "source": [
    "###  随机森林"
   ]
  },
  {
   "cell_type": "code",
   "execution_count": null,
   "metadata": {
    "ExecuteTime": {
     "start_time": "2019-06-03T09:00:14.963Z"
    }
   },
   "outputs": [],
   "source": [
    "from sklearn.ensemble import RandomForestClassifier\n",
    "\n",
    "rnd_clf = RandomForestClassifier(random_state=42)\n",
    "rnd_clf.fit(X_train,y_train)\n",
    "y_rnd_pred = rnd_clf.predict(X_train)\n",
    "accuracy_score(y_rnd_pred,y_train)"
   ]
  },
  {
   "cell_type": "code",
   "execution_count": null,
   "metadata": {
    "ExecuteTime": {
     "start_time": "2019-06-03T09:00:14.971Z"
    }
   },
   "outputs": [],
   "source": [
    "cross_val_score(rnd_clf,X_train,y_train,cv=3,scoring='accuracy')"
   ]
  },
  {
   "cell_type": "markdown",
   "metadata": {},
   "source": [
    "决策树和随机森林未约束的模型都过拟合严重，对随机森林进行超参数组合调试模型"
   ]
  },
  {
   "cell_type": "markdown",
   "metadata": {},
   "source": [
    "## 模型微调"
   ]
  },
  {
   "cell_type": "code",
   "execution_count": null,
   "metadata": {
    "ExecuteTime": {
     "start_time": "2019-06-03T09:00:14.980Z"
    },
    "code_folding": []
   },
   "outputs": [],
   "source": [
    "from sklearn.model_selection import StratifiedKFold\n",
    "from sklearn.model_selection import GridSearchCV\n",
    "parameter_grid = {\n",
    "                 'max_depth' : [2, 3, 4, 5, 6, 7, 8],\n",
    "                 'n_estimators': [10,20,30,40,50],\n",
    "                 'max_features': ['sqrt', 'auto', 'log2'],\n",
    "                 'min_samples_split': [2, 3, 5, 10],\n",
    "                 'min_samples_leaf': [1, 3, 5, 10],\n",
    "                 'bootstrap': [True, False],\n",
    "                 }\n",
    "forest = RandomForestClassifier()\n",
    "cross_validation = StratifiedKFold(n_splits=3)\n",
    "\n",
    "grid_search = GridSearchCV(forest,\n",
    "                            scoring='accuracy',\n",
    "                            param_grid=parameter_grid,\n",
    "                            cv=cross_validation,\n",
    "                            verbose=1\n",
    "                            )\n",
    "\n",
    "grid_search.fit(X_train, y_train)\n",
    "model = grid_search\n",
    "parameters = grid_search.best_params_"
   ]
  },
  {
   "cell_type": "code",
   "execution_count": null,
   "metadata": {
    "ExecuteTime": {
     "start_time": "2019-06-03T09:00:14.987Z"
    }
   },
   "outputs": [],
   "source": [
    "parameters"
   ]
  },
  {
   "cell_type": "code",
   "execution_count": null,
   "metadata": {
    "ExecuteTime": {
     "start_time": "2019-06-03T09:00:14.998Z"
    }
   },
   "outputs": [],
   "source": [
    "model"
   ]
  },
  {
   "cell_type": "code",
   "execution_count": null,
   "metadata": {
    "ExecuteTime": {
     "start_time": "2019-06-03T09:00:15.008Z"
    }
   },
   "outputs": [],
   "source": [
    "y_rnd_pred = model.predict(X_train)\n",
    "accuracy_score(y_rnd_pred,y_train)"
   ]
  },
  {
   "cell_type": "code",
   "execution_count": null,
   "metadata": {
    "ExecuteTime": {
     "start_time": "2019-06-03T09:00:15.017Z"
    }
   },
   "outputs": [],
   "source": [
    "cross_val_score(rnd_clf,X_train,y_train,cv=3,scoring='accuracy')"
   ]
  },
  {
   "cell_type": "markdown",
   "metadata": {},
   "source": [
    "# 测试集上运行"
   ]
  },
  {
   "cell_type": "code",
   "execution_count": null,
   "metadata": {
    "ExecuteTime": {
     "start_time": "2019-06-03T09:00:15.026Z"
    }
   },
   "outputs": [],
   "source": [
    "test_set.info()"
   ]
  },
  {
   "cell_type": "code",
   "execution_count": null,
   "metadata": {
    "ExecuteTime": {
     "start_time": "2019-06-03T09:00:15.033Z"
    }
   },
   "outputs": [],
   "source": [
    "get_titles(test_set)\n",
    "test_set.head()"
   ]
  },
  {
   "cell_type": "code",
   "execution_count": null,
   "metadata": {
    "ExecuteTime": {
     "start_time": "2019-06-03T09:00:15.040Z"
    }
   },
   "outputs": [],
   "source": [
    "test_set = test_set.drop(['PassengerId','Ticket','Name','Cabin'],axis=1)\n",
    "test_set.head()"
   ]
  },
  {
   "cell_type": "code",
   "execution_count": null,
   "metadata": {
    "ExecuteTime": {
     "start_time": "2019-06-03T09:00:15.047Z"
    }
   },
   "outputs": [],
   "source": [
    "test_set['Age'] = test_set.apply(lambda row: fill_age(row) if np.isnan(row['Age']) else row['Age'],axis=1)\n",
    "test_set.info()"
   ]
  },
  {
   "cell_type": "code",
   "execution_count": null,
   "metadata": {
    "ExecuteTime": {
     "start_time": "2019-06-03T09:00:15.054Z"
    }
   },
   "outputs": [],
   "source": [
    "test_set['Sex'] = pd.factorize(test_set['Sex'])[0]\n",
    "test_set = pd.concat([test_set,pd.get_dummies(test_set['Embarked'])],axis=1)\n",
    "test_set = pd.concat([test_set,pd.get_dummies(test_set['Title'])],axis=1)\n",
    "test_set = test_set.drop(['Embarked','Title'],axis=1)\n",
    "test_set.head()"
   ]
  },
  {
   "cell_type": "code",
   "execution_count": null,
   "metadata": {
    "ExecuteTime": {
     "start_time": "2019-06-03T09:00:15.060Z"
    }
   },
   "outputs": [],
   "source": [
    "y_test = test_set['Survived']\n",
    "test_set = test_set.drop(['Survived'],axis=1 )\n",
    "\n",
    "std = StandardScaler()\n",
    "std.fit(test_set)\n",
    "\n",
    "X_test = std.transform(test_set)\n",
    "X_test.shape,y_test.shape"
   ]
  },
  {
   "cell_type": "code",
   "execution_count": null,
   "metadata": {
    "ExecuteTime": {
     "start_time": "2019-06-03T09:00:15.068Z"
    }
   },
   "outputs": [],
   "source": [
    "y_test_pred = model.predict(X_test)\n",
    "accuracy_score(y_test_pred,y_test)"
   ]
  },
  {
   "cell_type": "code",
   "execution_count": null,
   "metadata": {
    "ExecuteTime": {
     "start_time": "2019-06-03T09:00:15.075Z"
    }
   },
   "outputs": [],
   "source": [
    "y_test_pred = log_clf.predict(X_test)\n",
    "accuracy_score(y_test_pred,y_test)"
   ]
  },
  {
   "cell_type": "markdown",
   "metadata": {},
   "source": [
    "随机森林的准确度要高一些"
   ]
  },
  {
   "cell_type": "markdown",
   "metadata": {},
   "source": [
    "# 生成结果在kaggle上进行评分"
   ]
  },
  {
   "cell_type": "code",
   "execution_count": null,
   "metadata": {
    "ExecuteTime": {
     "start_time": "2019-06-03T09:00:15.085Z"
    }
   },
   "outputs": [],
   "source": [
    "test_data = pd.read_csv('./data/test.csv')\n",
    "test_data.head()\n",
    "PassengerId = test_data['PassengerId']\n",
    "test_data.info()"
   ]
  },
  {
   "cell_type": "code",
   "execution_count": null,
   "metadata": {
    "ExecuteTime": {
     "start_time": "2019-06-03T09:00:15.092Z"
    }
   },
   "outputs": [],
   "source": [
    "get_titles(test_data)\n",
    "test_data = test_data.drop(['PassengerId','Ticket','Name','Cabin'],axis=1)\n",
    "test_data['Age'] = test_data.apply(lambda row: fill_age(row) if np.isnan(row['Age']) else row['Age'],axis=1)\n",
    "test_data['Sex'] = pd.factorize(test_data['Sex'])[0]\n",
    "test_data = pd.concat([test_data,pd.get_dummies(test_data['Embarked'])],axis=1)\n",
    "test_data = pd.concat([test_data,pd.get_dummies(test_data['Title'])],axis=1)\n",
    "test_data = test_data.drop(['Embarked','Title'],axis=1)\n",
    "test_data.head()"
   ]
  },
  {
   "cell_type": "code",
   "execution_count": null,
   "metadata": {
    "ExecuteTime": {
     "start_time": "2019-06-03T09:00:15.098Z"
    }
   },
   "outputs": [],
   "source": [
    "test_data.info()"
   ]
  },
  {
   "cell_type": "code",
   "execution_count": null,
   "metadata": {
    "ExecuteTime": {
     "start_time": "2019-06-03T09:00:15.104Z"
    }
   },
   "outputs": [],
   "source": [
    "test_data[test_data['Fare'].isna()]"
   ]
  },
  {
   "cell_type": "code",
   "execution_count": null,
   "metadata": {
    "ExecuteTime": {
     "start_time": "2019-06-03T09:00:15.110Z"
    }
   },
   "outputs": [],
   "source": [
    "#根据前面算出的中位数进行填写\n",
    "test_data.loc[152,'Fare'] = 7.8\n",
    "test_data.info()"
   ]
  },
  {
   "cell_type": "code",
   "execution_count": null,
   "metadata": {
    "ExecuteTime": {
     "start_time": "2019-06-03T09:00:15.117Z"
    }
   },
   "outputs": [],
   "source": [
    "std = StandardScaler()\n",
    "std.fit(test_data)\n",
    "\n",
    "X_test = std.transform(test_data)\n",
    "X_test.shape"
   ]
  },
  {
   "cell_type": "code",
   "execution_count": null,
   "metadata": {
    "ExecuteTime": {
     "start_time": "2019-06-03T09:00:15.123Z"
    }
   },
   "outputs": [],
   "source": [
    "y_test_log_pred = log_clf.predict(X_test)"
   ]
  },
  {
   "cell_type": "code",
   "execution_count": null,
   "metadata": {
    "ExecuteTime": {
     "start_time": "2019-06-03T09:00:15.131Z"
    }
   },
   "outputs": [],
   "source": [
    "y_test_rnd_pred = log_clf.predict(X_test)"
   ]
  },
  {
   "cell_type": "code",
   "execution_count": null,
   "metadata": {
    "ExecuteTime": {
     "start_time": "2019-06-03T09:00:15.140Z"
    }
   },
   "outputs": [],
   "source": [
    "OutDf = pd.DataFrame(index= PassengerId,columns=['Survived'])\n",
    "OutDf['Survived'] = y_test_log_pred\n",
    "OutDf.to_csv('log_clf_result.csv')"
   ]
  },
  {
   "cell_type": "code",
   "execution_count": null,
   "metadata": {
    "ExecuteTime": {
     "start_time": "2019-06-03T09:00:15.150Z"
    }
   },
   "outputs": [],
   "source": [
    "OutDf = pd.DataFrame(index= PassengerId,columns=['Survived'])\n",
    "OutDf['Survived'] = y_test_rnd_pred\n",
    "OutDf.to_csv('rnd_clf_result.csv')"
   ]
  }
 ],
 "metadata": {
  "kernelspec": {
   "display_name": "machine",
   "language": "python",
   "name": "machine_learing"
  },
  "language_info": {
   "codemirror_mode": {
    "name": "ipython",
    "version": 3
   },
   "file_extension": ".py",
   "mimetype": "text/x-python",
   "name": "python",
   "nbconvert_exporter": "python",
   "pygments_lexer": "ipython3",
   "version": "3.7.3"
  },
  "toc": {
   "base_numbering": 1,
   "nav_menu": {},
   "number_sections": true,
   "sideBar": false,
   "skip_h1_title": false,
   "title_cell": "Table of Contents",
   "title_sidebar": "Contents",
   "toc_cell": false,
   "toc_position": {
    "height": "451.4px",
    "left": "37px",
    "top": "164.6px",
    "width": "224px"
   },
   "toc_section_display": true,
   "toc_window_display": true
  },
  "varInspector": {
   "cols": {
    "lenName": 16,
    "lenType": 16,
    "lenVar": 40
   },
   "kernels_config": {
    "python": {
     "delete_cmd_postfix": "",
     "delete_cmd_prefix": "del ",
     "library": "var_list.py",
     "varRefreshCmd": "print(var_dic_list())"
    },
    "r": {
     "delete_cmd_postfix": ") ",
     "delete_cmd_prefix": "rm(",
     "library": "var_list.r",
     "varRefreshCmd": "cat(var_dic_list()) "
    }
   },
   "types_to_exclude": [
    "module",
    "function",
    "builtin_function_or_method",
    "instance",
    "_Feature"
   ],
   "window_display": false
  }
 },
 "nbformat": 4,
 "nbformat_minor": 2
}
